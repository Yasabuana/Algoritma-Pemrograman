{
  "nbformat": 4,
  "nbformat_minor": 0,
  "metadata": {
    "colab": {
      "provenance": [],
      "authorship_tag": "ABX9TyMTSAhp8UCLuKW0WEEqjg2f",
      "include_colab_link": true
    },
    "kernelspec": {
      "name": "python3",
      "display_name": "Python 3"
    },
    "language_info": {
      "name": "python"
    }
  },
  "cells": [
    {
      "cell_type": "markdown",
      "metadata": {
        "id": "view-in-github",
        "colab_type": "text"
      },
      "source": [
        "<a href=\"https://colab.research.google.com/github/Yasabuana/Algoritma-Pemrograman/blob/main/week13.ipynb\" target=\"_parent\"><img src=\"https://colab.research.google.com/assets/colab-badge.svg\" alt=\"Open In Colab\"/></a>"
      ]
    },
    {
      "cell_type": "code",
      "source": [
        "class MyClass:\n",
        "  x = 5"
      ],
      "metadata": {
        "id": "JcDPsxRvHjDR"
      },
      "execution_count": null,
      "outputs": []
    },
    {
      "cell_type": "code",
      "source": [
        "p1 = MyClass()\n",
        "print(p1.x)"
      ],
      "metadata": {
        "id": "lP2BO-kJHi_0"
      },
      "execution_count": null,
      "outputs": []
    },
    {
      "cell_type": "code",
      "source": [
        "class Person:\n",
        "  def __init__(self, name, age):\n",
        "    self.name = name\n",
        "    self.age = age\n",
        "\n",
        "p1 = Person(\"Yasa\", 18)\n",
        "\n",
        "print(p1.name)\n",
        "print(p1.age)"
      ],
      "metadata": {
        "id": "7PORR1z6Hi9L"
      },
      "execution_count": null,
      "outputs": []
    },
    {
      "cell_type": "code",
      "source": [
        "class Person:\n",
        "  def __init__(self, name, age):\n",
        "    self.name = name\n",
        "    self.age = age\n",
        "\n",
        "p1 = Person(\"Yasa\", 18)\n",
        "\n",
        "print(p1)"
      ],
      "metadata": {
        "id": "BlM8rNmRHi60"
      },
      "execution_count": null,
      "outputs": []
    },
    {
      "cell_type": "code",
      "source": [
        "class Person:\n",
        "  def __init__(self, name, age):\n",
        "    self.name = name\n",
        "    self.age = age\n",
        "\n",
        "  def __str__(self):\n",
        "    return f\"{self.name}({self.age})\"\n",
        "\n",
        "p1 = Person(\"Yasa\", 18)\n",
        "\n",
        "print(p1)"
      ],
      "metadata": {
        "id": "BAmBiODIHiwO"
      },
      "execution_count": null,
      "outputs": []
    },
    {
      "cell_type": "code",
      "source": [
        "class Person:\n",
        "  def __init__(self, name, age):\n",
        "    self.name = name\n",
        "    self.age = age\n",
        "\n",
        "  def myfunc(self):\n",
        "    print(\"Hello my name is \" + self.name)\n",
        "\n",
        "p1 = Person(\"Yasa\", 18)\n",
        "p1.myfunc()"
      ],
      "metadata": {
        "id": "TllgESwAH2I-"
      },
      "execution_count": null,
      "outputs": []
    },
    {
      "cell_type": "code",
      "source": [
        "class Person:\n",
        "  def __init__(mysillyobject, name, age):\n",
        "    mysillyobject.name = name\n",
        "    mysillyobject.age = age\n",
        "\n",
        "  def myfunc(abc):\n",
        "    print(\"Hello my name is \" + abc.name)\n",
        "\n",
        "p1 = Person(\"Yasa\", 18)\n",
        "p1.myfunc()"
      ],
      "metadata": {
        "id": "kbBdr9xqH2Fm"
      },
      "execution_count": null,
      "outputs": []
    },
    {
      "cell_type": "code",
      "source": [
        "class Person:\n",
        "  def __init__(self, fname, lname):\n",
        "    self.firstname = fname\n",
        "    self.lastname = lname\n",
        "\n",
        "  def printname(self):\n",
        "    print(self.firstname, self.lastname)\n",
        "\n",
        "\n",
        "x = Person(\"Yasa\", \"Buana\")\n",
        "x.printname()"
      ],
      "metadata": {
        "id": "Q3GrdBkEH2DL"
      },
      "execution_count": null,
      "outputs": []
    },
    {
      "cell_type": "code",
      "execution_count": 1,
      "metadata": {
        "colab": {
          "base_uri": "https://localhost:8080/"
        },
        "id": "dPWsRt_6mTvr",
        "outputId": "e536dfed-474a-48f9-a792-7f7964f5b561"
      },
      "outputs": [
        {
          "output_type": "stream",
          "name": "stdout",
          "text": [
            "Stok di toko\n",
            "Jenis Alat Tulis : bolpoint\n",
            "Stok : 10\n",
            "Harga : 2000\n",
            "Harga Total : 20000\n",
            "\n",
            "Jenis Alat Tulis : pensil\n",
            "Stok :10\n",
            "Harga : 1000\n",
            "Harga Total : 10000\n",
            "\n",
            "Jenis Alat Tulis :penghapus\n",
            "Stok : 10\n",
            "Harga : 500\n",
            "Harga Total : 5000\n",
            "\n",
            "Harga Keseluruhan : 35000\n"
          ]
        }
      ],
      "source": [
        "class Alat_Tulis :\n",
        "  def __init__ (self, nama, stok, harga_eceran) :\n",
        "      self.nama = nama\n",
        "      self.stok = stok\n",
        "      self.harga_eceran = harga_eceran\n",
        "      self.harga_total = stok * harga_eceran\n",
        "  def set_nama (self, nama):\n",
        "      self.nama = nama\n",
        "  def set_stok (self, stok):\n",
        "      self.stok = stok\n",
        "  def set_harga_eceran (self, harga_eceran):\n",
        "      self.harga_eceran = harga_eceran\n",
        "  def get_nama (self):\n",
        "      return self.nama\n",
        "  def get_stok (self):\n",
        "      return self.stok\n",
        "  def get_harga_eceran (self):\n",
        "      return self.harga_eceran\n",
        "  def get_harga_total (self):\n",
        "      return self.harga_total\n",
        "\n",
        "bolpoint = Alat_Tulis('bolpoint', 10, 2000)\n",
        "pensil = Alat_Tulis('pensil', 10, 1000)\n",
        "penghapus = Alat_Tulis('penghapus', 10, 500)\n",
        "\n",
        "print(\"Stok di toko\")\n",
        "print(\"Jenis Alat Tulis : \" + bolpoint.get_nama())\n",
        "print(\"Stok : \" + str(bolpoint.get_stok()))\n",
        "print(\"Harga : \" + str(bolpoint.get_harga_eceran()))\n",
        "print(\"Harga Total : \" + str(bolpoint.get_harga_total()))\n",
        "print(\"\")\n",
        "print(\"Jenis Alat Tulis : \" + pensil.get_nama())\n",
        "print(\"Stok :\" + str(pensil.get_stok()))\n",
        "print(\"Harga : \" + str(pensil.get_harga_eceran()))\n",
        "print(\"Harga Total : \" + str(pensil.get_harga_total()))\n",
        "print(\"\")\n",
        "print(\"Jenis Alat Tulis :\" + penghapus.get_nama())\n",
        "print(\"Stok : \" + str(penghapus.get_stok()))\n",
        "print(\"Harga : \" + str(penghapus.get_harga_eceran()))\n",
        "print(\"Harga Total : \" + str(penghapus.get_harga_total()))\n",
        "print(\"\")\n",
        "print(\"Harga Keseluruhan : \" + str(bolpoint.get_harga_total() + pensil.get_harga_total() + penghapus.get_harga_total()))\n",
        "\n"
      ]
    },
    {
      "cell_type": "code",
      "source": [],
      "metadata": {
        "id": "PyfU6caNnTDe"
      },
      "execution_count": null,
      "outputs": []
    }
  ]
}