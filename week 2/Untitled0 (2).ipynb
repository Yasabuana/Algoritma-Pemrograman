{
  "nbformat": 4,
  "nbformat_minor": 0,
  "metadata": {
    "colab": {
      "provenance": []
    },
    "kernelspec": {
      "name": "python3",
      "display_name": "Python 3"
    },
    "language_info": {
      "name": "python"
    }
  },
  "cells": [
    {
      "cell_type": "markdown",
      "source": [
        "Tugas Pertama Minggu Pertama"
      ],
      "metadata": {
        "id": "WuH1qA12VbFz"
      }
    },
    {
      "cell_type": "code",
      "source": [
        "panjang = 20.5\n",
        "lebar = 25\n",
        "tinggi = 10\n",
        "\n",
        "keliling = 2 * (panjang + lebar)\n",
        "luas = panjang * lebar\n",
        "volume = panjang * lebar * tinggi\n",
        "\n",
        "print(\"Panjang = \" , panjang)\n",
        "print(\"Lebar = \" , lebar)\n",
        "print(\"Tinggi = \" , tinggi)\n",
        "print(\"Keliing =\" , keliling)\n",
        "print(\"Volume =\" , volume)\n"
      ],
      "metadata": {
        "colab": {
          "base_uri": "https://localhost:8080/"
        },
        "id": "gYku8-5ydsQ5",
        "outputId": "50933645-71d8-41fb-bcc5-aac7c04b1aeb"
      },
      "execution_count": null,
      "outputs": [
        {
          "output_type": "stream",
          "name": "stdout",
          "text": [
            "Panjang =  20.5\n",
            "Lebar =  25\n",
            "Tinggi =  10\n",
            "Keliing = 91.0\n",
            "Volume = 5125.0\n"
          ]
        }
      ]
    },
    {
      "cell_type": "markdown",
      "source": [
        "Tugas Kedua Minggu Pertama"
      ],
      "metadata": {
        "id": "-79SX99BeclO"
      }
    },
    {
      "cell_type": "code",
      "source": [
        "Nilai_Ratarata_Shafira = ( (85 + 75)/2)\n",
        "print(Nilai_Ratarata_Shafira)"
      ],
      "metadata": {
        "colab": {
          "base_uri": "https://localhost:8080/"
        },
        "id": "KBVjCPlgzGka",
        "outputId": "32ee07c6-6295-473c-d20d-6344d7d33830"
      },
      "execution_count": 5,
      "outputs": [
        {
          "output_type": "stream",
          "name": "stdout",
          "text": [
            "80.0\n"
          ]
        }
      ]
    },
    {
      "cell_type": "code",
      "source": [
        "Jumlah_NilaiHanifdanAndi = ((75 + 90 + 70 + 75))\n",
        "print(Jumlah_NilaiHanifdanAndi)"
      ],
      "metadata": {
        "colab": {
          "base_uri": "https://localhost:8080/"
        },
        "id": "fXCz7qYhzztc",
        "outputId": "2ca3af40-398d-47ac-c7a0-6454aefac133"
      },
      "execution_count": 6,
      "outputs": [
        {
          "output_type": "stream",
          "name": "stdout",
          "text": [
            "310\n"
          ]
        }
      ]
    },
    {
      "cell_type": "code",
      "source": [
        "Nilai_Ratarata_Matakuliah_Kalkulus = ((85 + 80 + 75 + 95 + 85 + 75 + 70 + 85 + 80)/9)\n",
        "print(Nilai_Ratarata_Matakuliah_Kalkulus)"
      ],
      "metadata": {
        "colab": {
          "base_uri": "https://localhost:8080/"
        },
        "id": "vrfkQorZ2N0a",
        "outputId": "6d329302-53ea-4a4d-b04e-8240f5e69112"
      },
      "execution_count": 8,
      "outputs": [
        {
          "output_type": "stream",
          "name": "stdout",
          "text": [
            "81.11111111111111\n"
          ]
        }
      ]
    },
    {
      "cell_type": "code",
      "source": [
        "Nilai_Ratarata_Matakuliah_Statistika = ((75 + 90 + 80 + 80 + 85 + 90 + 75 + 85 + 75)/9)\n",
        "print(Nilai_Ratarata_Matakuliah_Statistika)"
      ],
      "metadata": {
        "colab": {
          "base_uri": "https://localhost:8080/"
        },
        "id": "oSW-hhEV3IGS",
        "outputId": "b416c7a1-2e2b-4e79-c03b-9ee9478bfd27"
      },
      "execution_count": 9,
      "outputs": [
        {
          "output_type": "stream",
          "name": "stdout",
          "text": [
            "81.66666666666667\n"
          ]
        }
      ]
    },
    {
      "cell_type": "code",
      "source": [
        "jam_kerja_dwi = 8\n",
        "hari_kerja_agustus = 22\n",
        "gaji_dwi_perjam = 30000\n",
        "izin_dwi_agustus = 3\n",
        "tunjangan = 0.1\n",
        "lembur_agustus = 5\n",
        "upah_lembur = 10000\n",
        "\n",
        "gaji_dwi_perhari = jam_kerja_dwi * gaji_dwi_perjam\n",
        "gaji_awal_dwi_agustus = gaji_dwi_perhari * hari_kerja_agustus\n",
        "gaji_akhir_dwi_agustus = gaji_awal_dwi_agustus - (izin_dwi_agustus * gaji_dwi_perhari)\n",
        "tunjangan_dwi = gaji_akhir_dwi_agustus * tunjangan\n",
        "uang_lembur = lembur_agustus * upah_lembur\n",
        "total_gaji_dwi = tunjangan_dwi + uang_lembur + gaji_akhir_dwi_agustus\n",
        "\n",
        "print(\"Gaji jika tidak masuk 3 hari : Rp\" , gaji_akhir_dwi_agustus)\n",
        "print(\"Jumlah tunjangan yang diterima Dwi : Rp\" , tunjangan_dwi)\n",
        "print(\"Total gaji yang diterima Dwi bulan Agustus : Rp\" , total_gaji_dwi)\n",
        "\n"
      ],
      "metadata": {
        "colab": {
          "base_uri": "https://localhost:8080/"
        },
        "id": "aSNnEWFyrcM3",
        "outputId": "6bfd8072-c6b4-4083-cbc5-88628d06943b"
      },
      "execution_count": 5,
      "outputs": [
        {
          "output_type": "stream",
          "name": "stdout",
          "text": [
            "Gaji jika tidak masuk 3 hari : Rp 4560000\n",
            "Jumlah tunjangan yang diterima Dwi : Rp 456000.0\n",
            "Total gaji yang diterima Dwi bulan Agustus : Rp 5066000.0\n"
          ]
        }
      ]
    },
    {
      "cell_type": "code",
      "source": [
        "Ratarata_nilai_Widya_Dhanar_Hikma_Nedia_Matakuliah_Kalkulus = ( (85 + 85 + 80 + 95)/4)\n",
        "Ratarata_nilai_Widya_Dhanar_Hikma_Nedia_Matakuliah_Statistika = ( (85 + 85 + 75 + 80)/4)\n",
        "print(Ratarata_nilai_Widya_Dhanar_Hikma_Nedia_Matakuliah_Kalkulus)\n",
        "print(Ratarata_nilai_Widya_Dhanar_Hikma_Nedia_Matakuliah_Statistika)"
      ],
      "metadata": {
        "colab": {
          "base_uri": "https://localhost:8080/"
        },
        "id": "gBA0vxbV16AH",
        "outputId": "b5386bba-003e-4858-b194-537b6a5ba836"
      },
      "execution_count": 7,
      "outputs": [
        {
          "output_type": "stream",
          "name": "stdout",
          "text": [
            "86.25\n",
            "81.25\n"
          ]
        }
      ]
    }
  ]
}