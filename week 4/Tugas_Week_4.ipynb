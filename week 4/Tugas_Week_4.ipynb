{
  "nbformat": 4,
  "nbformat_minor": 0,
  "metadata": {
    "colab": {
      "provenance": []
    },
    "kernelspec": {
      "name": "python3",
      "display_name": "Python 3"
    },
    "language_info": {
      "name": "python"
    }
  },
  "cells": [
    {
      "cell_type": "code",
      "execution_count": 4,
      "metadata": {
        "colab": {
          "base_uri": "https://localhost:8080/"
        },
        "id": "MzhEkOWzSyXq",
        "outputId": "59be196f-6b4c-4b95-95c3-e9d6cabb13b8"
      },
      "outputs": [
        {
          "output_type": "execute_result",
          "data": {
            "text/plain": [
              "False"
            ]
          },
          "metadata": {},
          "execution_count": 4
        }
      ],
      "source": [
        "# Condition equal\n",
        "\n",
        "a = 5\n",
        "a == 6"
      ]
    },
    {
      "cell_type": "code",
      "source": [
        "# Greater than Sign\n",
        "\n",
        "i = 6\n",
        "i > 5"
      ],
      "metadata": {
        "colab": {
          "base_uri": "https://localhost:8080/"
        },
        "id": "aE45M1_jTxx4",
        "outputId": "ed33254b-6d8d-4b4e-b0dd-4b1443f86226"
      },
      "execution_count": 3,
      "outputs": [
        {
          "output_type": "execute_result",
          "data": {
            "text/plain": [
              "True"
            ]
          },
          "metadata": {},
          "execution_count": 3
        }
      ]
    },
    {
      "cell_type": "code",
      "source": [
        "# Greater than Sign\n",
        "\n",
        "i = 2\n",
        "i > 5"
      ],
      "metadata": {
        "colab": {
          "base_uri": "https://localhost:8080/"
        },
        "id": "8JKoQ6SXUIFs",
        "outputId": "cfe9426a-bbd4-4631-eab8-c72c46aff62b"
      },
      "execution_count": 5,
      "outputs": [
        {
          "output_type": "execute_result",
          "data": {
            "text/plain": [
              "False"
            ]
          },
          "metadata": {},
          "execution_count": 5
        }
      ]
    },
    {
      "cell_type": "code",
      "source": [
        "#  Inequality Sign\n",
        "\n",
        "i = 2\n",
        "i != 6"
      ],
      "metadata": {
        "colab": {
          "base_uri": "https://localhost:8080/"
        },
        "id": "VDbK_bxqURuu",
        "outputId": "bcb139b1-391c-4c57-812e-582230524895"
      },
      "execution_count": 6,
      "outputs": [
        {
          "output_type": "execute_result",
          "data": {
            "text/plain": [
              "True"
            ]
          },
          "metadata": {},
          "execution_count": 6
        }
      ]
    },
    {
      "cell_type": "code",
      "source": [
        "# Inequality Sign\n",
        "\n",
        "i = 6\n",
        "i != 6"
      ],
      "metadata": {
        "colab": {
          "base_uri": "https://localhost:8080/"
        },
        "id": "ZJsDRgVwVeJ_",
        "outputId": "83af001e-fddb-4679-dcfb-af1bbb2a11ee"
      },
      "execution_count": 7,
      "outputs": [
        {
          "output_type": "execute_result",
          "data": {
            "text/plain": [
              "False"
            ]
          },
          "metadata": {},
          "execution_count": 7
        }
      ]
    },
    {
      "cell_type": "code",
      "source": [
        " umur = int(input(\"Masukkan umur anda \"))\n",
        "\n",
        "\n",
        " if umur >= 17:\n",
        "    print(\"Boleh membuat sim\")\n",
        "else :\n",
        "        print(\"Tidak boleh membuat sim\")\n",
        "\n"
      ],
      "metadata": {
        "colab": {
          "base_uri": "https://localhost:8080/"
        },
        "id": "3uyid1P8cX6Z",
        "outputId": "8b4a332c-ff28-430e-9092-ae470e14c03c"
      },
      "execution_count": 10,
      "outputs": [
        {
          "output_type": "stream",
          "name": "stdout",
          "text": [
            "Masukkan umur anda 17\n",
            "Boleh membuat sim\n"
          ]
        }
      ]
    },
    {
      "cell_type": "code",
      "source": [
        "Nilai = int(input(\"Masukkan nilai anda \"))\n",
        "\n",
        "if Nilai >= 90:\n",
        "    print(\"Nilai A\")\n",
        "elif Nilai >= 80:\n",
        "        print(\"Nilai B+\")\n",
        "elif Nilai >= 70:\n",
        "    print(\"Nilai B\")\n",
        "elif Nilai >= 60:\n",
        "     print(\"Nilai C+\")\n",
        "elif Nilai >=50:\n",
        "    print(\"Nilai C\")\n",
        "elif Nilai >=40:\n",
        "    print(\"Nilai D\")\n",
        "else:\n",
        "    print(\"Nilai E\")"
      ],
      "metadata": {
        "colab": {
          "base_uri": "https://localhost:8080/"
        },
        "id": "dluUkjPfe226",
        "outputId": "613927aa-c933-467f-9201-dab0734fd9c3"
      },
      "execution_count": 15,
      "outputs": [
        {
          "output_type": "stream",
          "name": "stdout",
          "text": [
            "Masukkan nilai anda 99\n",
            "Nilai A\n"
          ]
        }
      ]
    },
    {
      "cell_type": "code",
      "source": [
        "Nilai = float(input(\"masukkan nilai anda \"))\n",
        "\n",
        "if (Nilai <=100) and (Nilai >=80.00):\n",
        "      print(\"Nilai A\")\n",
        "elif (Nilai <=79.99) and (Nilai >=77.50):\n",
        "      print(\"Nilai A-\")\n",
        "elif (Nilai <=77.49) and (Nilai >=75.00):\n",
        "      print(\"Nilai A/B\")\n",
        "elif (Nilai <=74.99) and (Nilai >=72.50):\n",
        "      print(\"Nilai B+\")\n",
        "elif (Nilai <=72.49) and (Nilai >=70.00):\n",
        "      print(\"Nilai B\")\n",
        "elif (Nilai <=69.99) and (Nilai >=67.50):\n",
        "      print(\"Nilai B-\")\n",
        "elif (Nilai <=67.49) and (Nilai >=65.00):\n",
        "      print(\"Nilai B/C\")\n",
        "elif (Nilai <=64.99) and (Nilai >=62.50):\n",
        "       print(\"Nilai C+\")\n",
        "elif (Nilai <=62.49) and (Nilai >=60.00):\n",
        "      print(\"Nilai C\")\n",
        "elif (Nilai <=59.99) and (Nilai >=55.00):\n",
        "      print(\"Nilai C-\")\n",
        "elif (Nilai <=54.99) and (Nilai >=50.00):\n",
        "      print(\"Nilai C/D\")\n",
        "elif (Nilai <=49.99) and (Nilai >=45.00):\n",
        "      print(\"Nilai D+\")\n",
        "elif (Nilai <=44.99) and (Nilai >=40.00):\n",
        "      print(\"Nilai D\")\n",
        "else:\n",
        "        print(\"Nilai E\")"
      ],
      "metadata": {
        "colab": {
          "base_uri": "https://localhost:8080/"
        },
        "id": "5HBQ4Clxihlb",
        "outputId": "f1d5ca6a-587e-4100-c4da-5ea598ac2f5c"
      },
      "execution_count": 16,
      "outputs": [
        {
          "output_type": "stream",
          "name": "stdout",
          "text": [
            "masukkan nilai anda 100\n",
            "Nilai A\n"
          ]
        }
      ]
    },
    {
      "cell_type": "code",
      "source": [
        "# prompt:\n",
        "\n",
        "x = 5\n",
        "y = 2\n",
        "print( x >= y)"
      ],
      "metadata": {
        "colab": {
          "base_uri": "https://localhost:8080/"
        },
        "id": "h_ZLz9cYACsx",
        "outputId": "cf469619-aa97-41f1-d660-8c335fcda930"
      },
      "execution_count": 9,
      "outputs": [
        {
          "output_type": "stream",
          "name": "stdout",
          "text": [
            "True\n"
          ]
        }
      ]
    },
    {
      "cell_type": "code",
      "source": [],
      "metadata": {
        "colab": {
          "base_uri": "https://localhost:8080/"
        },
        "id": "GSdq-vw3KVEH",
        "outputId": "9a1398cc-9a82-4bf1-896f-67f8feedaa1f"
      },
      "execution_count": 14,
      "outputs": [
        {
          "name": "stdout",
          "output_type": "stream",
          "text": [
            "20\n"
          ]
        }
      ]
    }
  ]
}