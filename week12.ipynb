{
  "nbformat": 4,
  "nbformat_minor": 0,
  "metadata": {
    "colab": {
      "provenance": [],
      "authorship_tag": "ABX9TyORKzUTq+PIpI6UHWt8t28P",
      "include_colab_link": true
    },
    "kernelspec": {
      "name": "python3",
      "display_name": "Python 3"
    },
    "language_info": {
      "name": "python"
    }
  },
  "cells": [
    {
      "cell_type": "markdown",
      "metadata": {
        "id": "view-in-github",
        "colab_type": "text"
      },
      "source": [
        "<a href=\"https://colab.research.google.com/github/Yasabuana/Algoritma-Pemrograman/blob/main/week12.ipynb\" target=\"_parent\"><img src=\"https://colab.research.google.com/assets/colab-badge.svg\" alt=\"Open In Colab\"/></a>"
      ]
    },
    {
      "cell_type": "code",
      "source": [
        "import modul\n",
        "\n",
        "while True:\n",
        "    try:\n",
        "        r = input(\"Masukkan jari-jari lingkaran: \")\n",
        "        if r == \"\":\n",
        "            raise ValueError(\"Input tidak boleh kosong, dek!\")\n",
        "\n",
        "\n",
        "        r = float(r)\n",
        "\n",
        "    except ValueError as e:\n",
        "        print(f\"Error: {e}\")\n",
        "        continue  # Meminta input ulang jika ada kesalahan\n",
        "\n",
        "    # Jika input valid, hitung luas lingkaran\n",
        "    luasLingkaran = modul.phi * r**2\n",
        "    print(f\"Luas lingkaran dengan jari-jari {r} adalah {luasLingkaran:.2f}\")\n",
        "\n",
        "\n",
        "    try :\n",
        "        s = input(\"Masukkan sisi persegi: \")\n",
        "        if s == \"\" :\n",
        "            raise ValueError(\"Input tidak boleh kosong, dek!\")\n",
        "        s = float(s)\n",
        "    except ValueError as e:\n",
        "        print(f\"Error: {e}\")\n",
        "        continue\n",
        "    luasPersegi = s**2\n",
        "    print(f\"Luas persegi dengan sisi {s} adalah {luasPersegi}\")\n",
        "    break\n",
        "\n"
      ],
      "metadata": {
        "colab": {
          "base_uri": "https://localhost:8080/"
        },
        "id": "GPE4oTlrkhsr",
        "outputId": "576187fb-0192-46bc-b77f-7db0181a89e1"
      },
      "execution_count": null,
      "outputs": [
        {
          "output_type": "stream",
          "name": "stdout",
          "text": [
            "Masukkan jari-jari lingkaran: 4\n",
            "Luas lingkaran dengan jari-jari 4.0 adalah 50.24\n",
            "Masukkan sisi persegi: \n",
            "Error: Input tidak boleh kosong, dek!\n",
            "Masukkan jari-jari lingkaran: w\n",
            "Error: could not convert string to float: 'w'\n",
            "Masukkan jari-jari lingkaran: 4\n",
            "Luas lingkaran dengan jari-jari 4.0 adalah 50.24\n",
            "Masukkan sisi persegi: 4\n",
            "Luas persegi dengan sisi 4.0 adalah 16.0\n"
          ]
        }
      ]
    },
    {
      "cell_type": "code",
      "source": [
        "def nim_mahasiswa():\n",
        "  pas = 0\n",
        "bilangan_ganjil = 0\n",
        "bilangan_genap = 0\n",
        "\n",
        "NIM = (input(\"Masukkan NIM: \"))\n",
        "\n",
        "for i in (NIM) :\n",
        "  if int(i) % 2 == 0:\n",
        "    bilangan_genap += 1\n",
        "  else:\n",
        "    bilangan_ganjil += 1\n",
        "\n",
        "print(f\"Jumlah bilangan genap:\", bilangan_genap)\n",
        "print(f\"Jumlah bilangan ganjil:\", bilangan_ganjil)\n",
        "\n",
        "nim_mahasiswa()"
      ],
      "metadata": {
        "colab": {
          "base_uri": "https://localhost:8080/"
        },
        "id": "W-n_KLylz3uQ",
        "outputId": "de6064f4-a57d-45c4-c25b-6541acab7a33"
      },
      "execution_count": null,
      "outputs": [
        {
          "output_type": "stream",
          "name": "stdout",
          "text": [
            "Masukkan NIM: 2420506030\n",
            "Jumlah bilangan genap: 8\n",
            "Jumlah bilangan ganjil: 2\n"
          ]
        }
      ]
    },
    {
      "cell_type": "code",
      "source": [
        "def nim_mahasiswa():\n",
        "    while True:\n",
        "        try:\n",
        "            NIM = input(\"Masukkan NIM (hanya angka): \")\n",
        "\n",
        "            if NIM.strip() == \"\":\n",
        "                raise ValueError(\"Input tidak boleh kosong. Masukkan NIM dengan angka.\")\n",
        "\n",
        "            if not NIM.isdigit():\n",
        "                raise ValueError(\"Input harus berupa angka. Silakan masukkan NIM dengan angka saja.\")\n",
        "\n",
        "            bilangan_ganjil = 0\n",
        "            bilangan_genap = 0\n",
        "\n",
        "            for i in NIM:\n",
        "                if int(i) % 2 == 0:\n",
        "                    bilangan_genap += 1\n",
        "                else:\n",
        "                    bilangan_ganjil += 1\n",
        "\n",
        "            print(f\"Jumlah bilangan genap: {bilangan_genap}\")\n",
        "            print(f\"Jumlah bilangan ganjil: {bilangan_ganjil}\")\n",
        "            break\n",
        "        except ValueError as e:\n",
        "            print(f\"Error: {e}\")\n",
        "\n",
        "nim_mahasiswa()\n"
      ],
      "metadata": {
        "colab": {
          "base_uri": "https://localhost:8080/"
        },
        "id": "T6qrpCfYypl4",
        "outputId": "a301c6de-67f3-44ca-8fb9-1ad310e05032"
      },
      "execution_count": null,
      "outputs": [
        {
          "output_type": "stream",
          "name": "stdout",
          "text": [
            "Masukkan NIM (hanya angka): \n",
            "Error: Input tidak boleh kosong. Masukkan NIM dengan angka.\n",
            "Masukkan NIM (hanya angka): g\n",
            "Error: Input harus berupa angka. Silakan masukkan NIM dengan angka saja.\n",
            "Masukkan NIM (hanya angka): 0\n",
            "Jumlah bilangan genap: 1\n",
            "Jumlah bilangan ganjil: 0\n"
          ]
        }
      ]
    }
  ]
}