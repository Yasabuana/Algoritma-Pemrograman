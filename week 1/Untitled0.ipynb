{
  "nbformat": 4,
  "nbformat_minor": 0,
  "metadata": {
    "colab": {
      "provenance": []
    },
    "kernelspec": {
      "name": "python3",
      "display_name": "Python 3"
    },
    "language_info": {
      "name": "python"
    }
  },
  "cells": [
    {
      "cell_type": "code",
      "execution_count": 1,
      "metadata": {
        "colab": {
          "base_uri": "https://localhost:8080/"
        },
        "id": "JlcPVVxp5eXW",
        "outputId": "81ead290-3385-4854-f0c9-f12504057099"
      },
      "outputs": [
        {
          "output_type": "stream",
          "name": "stdout",
          "text": [
            " Nama : Yasabuana Athallahaufa Natawijaya\n",
            "\n",
            " NPM : 2420506030\n",
            "\n",
            " Alamat : JL. Jatiluhur 3 no B 93, Banyurojo, Mertoyudan, Kab Magelang\n",
            "\n",
            " Tinggi Badan : 169.1\n",
            "\n",
            " Berat Badan : 58.2\n"
          ]
        }
      ],
      "source": [
        "print(' Nama : Yasabuana Athallahaufa Natawijaya')\n",
        "print()\n",
        "print(' NPM : 2420506030')\n",
        "print()\n",
        "print(' Alamat : JL. Jatiluhur 3 no B 93, Banyurojo, Mertoyudan, Kab Magelang')\n",
        "print()\n",
        "print(' Tinggi Badan : 169.1')\n",
        "print()\n",
        "print(' Berat Badan : 58.2')"
      ]
    },
    {
      "cell_type": "markdown",
      "source": [
        "Tugas pertama minggu pertama"
      ],
      "metadata": {
        "id": "jySaIPPYT9ut"
      }
    },
    {
      "cell_type": "code",
      "source": [
        "print('\\033[1m'\"UNIVERSITAS TIDAR\" '\\033[0m')\n",
        "print('Universitas Tidar merupakan Perguruan Tinggi Pemerintah atau Perguruan Tinggi Negeri yang telah ditetapkan berdasarkan Peraturan Presiden Republik Indonesia')\n",
        "print() #untuk spasi\n",
        "print('\\033[1m'\"JURUSAN TEKNIK ELEKTRO, MEKATRONIKA DAN INFORMASI\" '\\033[0m')\n",
        "print(\"Jurusan Teknik Elektro terdiri atas tiga program studi, antara lain:\")\n",
        "print(\"     1. S1 Teknik Elektro  (\\033[3mBachelor of Electrical Engineering \\033[0m)\")\n",
        "print(\"     2. S1 Teknologi Informasi  (\\033[3mBachelor of Information Technology \\033[0m)\")\n",
        "print(\"     3. S1 Teknik Mekatronika  (\\033[3mBachelor of Mechatronics Engineering\\033[0m)\")"
      ],
      "metadata": {
        "colab": {
          "base_uri": "https://localhost:8080/"
        },
        "id": "5-l8g8-jTjvu",
        "outputId": "f533b7e9-7892-44f3-fa1a-7eebb4b64630"
      },
      "execution_count": 2,
      "outputs": [
        {
          "output_type": "stream",
          "name": "stdout",
          "text": [
            "\u001b[1mUNIVERSITAS TIDAR\u001b[0m\n",
            "Universitas Tidar merupakan Perguruan Tinggi Pemerintah atau Perguruan Tinggi Negeri yang telah ditetapkan berdasarkan Peraturan Presiden Republik Indonesia\n",
            "\n",
            "\u001b[1mJURUSAN TEKNIK ELEKTRO, MEKATRONIKA DAN INFORMASI\u001b[0m\n",
            "Jurusan Teknik Elektro terdiri atas tiga program studi, antara lain:\n",
            "     1. S1 Teknik Elektro  (\u001b[3mBachelor of Electrical Engineering \u001b[0m)\n",
            "     2. S1 Teknologi Informasi  (\u001b[3mBachelor of Information Technology \u001b[0m)\n",
            "     3. S1 Teknik Mekatronika  (\u001b[3mBachelor of Mechatronics Engineering\u001b[0m)\n"
          ]
        }
      ]
    },
    {
      "cell_type": "code",
      "source": [],
      "metadata": {
        "id": "Q7ts5xLyTx8t"
      },
      "execution_count": null,
      "outputs": []
    },
    {
      "cell_type": "markdown",
      "source": [],
      "metadata": {
        "id": "hyWJNcasT7zM"
      }
    }
  ]
}